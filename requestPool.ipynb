{
 "cells": [
  {
   "cell_type": "code",
   "execution_count": 3,
   "id": "2c8b90d8-b374-4f41-890b-0feeb1d74ba8",
   "metadata": {},
   "outputs": [],
   "source": [
    "from fabrictestbed_extensions.fablib.fablib import FablibManager as fablib_manager\n",
    "import time\n",
    "import datetime\n",
    "fablib = fablib_manager()\n",
    "slice_name=\"file-project_\" + fablib.get_bastion_username()\n",
    "slice = fablib.get_slice(slice_name)\n",
    "client_pool = {\"client1\": [], \"client2\": [], \"client3\": [], \"client4\": []}"
   ]
  },
  {
   "cell_type": "code",
   "execution_count": 6,
   "id": "ca6ddf86-98b2-47e7-803a-0e6b034c18c6",
   "metadata": {},
   "outputs": [
    {
     "name": "stdout",
     "output_type": "stream",
     "text": [
      "currentServer\n",
      "2024-04-29_055857\n",
      "currentServer\n",
      "2024-04-29_060058\n",
      "currentServer\n",
      "2024-04-29_060300\n",
      "currentServer\n",
      "2024-04-29_060501\n"
     ]
    }
   ],
   "source": [
    "# add a client every 5 minutes\n",
    "for client in client_pool:\n",
    "    target_node = slice.get_node(client)\n",
    "    dst = target_node.execute(\"cat serverDST.txt\")[0].strip()\n",
    "    #python3 ~/AStream/dist/client/dash_client.py -m http://currentServer/media/BigBuckBunny/4sec/BigBuckBunny_4s.mpd -p 'basic' -d\n",
    "    client_command = \"python3 ~/AStream/dist/client/dash_client.py -m http://\" + dst + \"/media/BigBuckBunny/4sec/BigBuckBunny_4s.mpd -p 'basic' -d\"\n",
    "    target_node.execute_thread(client_command)\n",
    "    #client_pid = target_node.execute(client_command +\" > /dev/null 2>&1 & \"  + \"echo $!\")[0].strip()\n",
    "    #client_pool[client].append(client_pid)\n",
    "    print(datetime.datetime.now().strftime(\"%Y-%m-%d_%H%M%S\"))\n",
    "    time.sleep(120)"
   ]
  },
  {
   "cell_type": "code",
   "execution_count": 5,
   "id": "d9dd041a-ad33-4aa3-9289-e6980743ddbd",
   "metadata": {},
   "outputs": [
    {
     "data": {
      "text/plain": [
       "('', '')"
      ]
     },
     "execution_count": 5,
     "metadata": {},
     "output_type": "execute_result"
    }
   ],
   "source": [
    "#slice.get_node(\"client1\").execute('echo \"currentServer\" > serverDST.txt')\n",
    "#slice.get_node(\"client2\").execute('echo \"currentServer\" > serverDST.txt')\n",
    "#slice.get_node(\"client3\").execute('echo \"currentServer\" > serverDST.txt')\n",
    "#slice.get_node(\"client4\").execute('echo \"currentServer\" > serverDST.txt')"
   ]
  },
  {
   "cell_type": "code",
   "execution_count": 40,
   "id": "fd324196-7f84-4c2a-9f8d-859bbb9ccbf7",
   "metadata": {},
   "outputs": [
    {
     "data": {
      "text/plain": [
       "('', '')"
      ]
     },
     "execution_count": 40,
     "metadata": {},
     "output_type": "execute_result"
    }
   ],
   "source": [
    "slice.get_node(\"client1\").execute(\"sed -i '1s/hotServer/currentServer/' serverDST.txt\")"
   ]
  },
  {
   "cell_type": "code",
   "execution_count": null,
   "id": "ac2ca6ed-40af-4a54-ba89-07d8b2297272",
   "metadata": {},
   "outputs": [],
   "source": []
  }
 ],
 "metadata": {
  "kernelspec": {
   "display_name": "Python 3 (ipykernel)",
   "language": "python",
   "name": "python3"
  },
  "language_info": {
   "codemirror_mode": {
    "name": "ipython",
    "version": 3
   },
   "file_extension": ".py",
   "mimetype": "text/x-python",
   "name": "python",
   "nbconvert_exporter": "python",
   "pygments_lexer": "ipython3",
   "version": "3.10.6"
  }
 },
 "nbformat": 4,
 "nbformat_minor": 5
}
